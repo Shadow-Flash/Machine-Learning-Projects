{
  "nbformat": 4,
  "nbformat_minor": 0,
  "metadata": {
    "colab": {
      "name": "Spam Classification",
      "provenance": [],
      "collapsed_sections": []
    },
    "kernelspec": {
      "name": "python3",
      "display_name": "Python 3"
    }
  },
  "cells": [
    {
      "cell_type": "markdown",
      "metadata": {
        "id": "PXe9eQzHCiTj",
        "colab_type": "text"
      },
      "source": [
        "#*Spam Classification*"
      ]
    },
    {
      "cell_type": "code",
      "metadata": {
        "id": "KEY_ZO4NCrb5",
        "colab_type": "code",
        "colab": {}
      },
      "source": [
        "#Importing Libraries\n",
        "import numpy as np\n",
        "import pandas as pd\n",
        "import matplotlib.pyplot as plt\n",
        "import nltk\n",
        "from nltk.stem import PorterStemmer\n",
        "from nltk.corpus import stopwords\n",
        "nltk.download('stopwords')"
      ],
      "execution_count": 0,
      "outputs": []
    },
    {
      "cell_type": "code",
      "metadata": {
        "id": "BzrZJ2CXDSf3",
        "colab_type": "code",
        "colab": {}
      },
      "source": [
        "#Creating Dataset\n",
        "dataset = pd.read_csv('spam.csv',encoding='latin-1')\n",
        "dataset.rename(columns = {'v1':'Spam', 'v2':'Messages'}, inplace = True) \n",
        "dataset['Spam'].unique()"
      ],
      "execution_count": 0,
      "outputs": []
    },
    {
      "cell_type": "code",
      "metadata": {
        "id": "RjT_2hEgFGJ-",
        "colab_type": "code",
        "colab": {}
      },
      "source": [
        "#Label Encoder\n",
        "from sklearn.preprocessing import LabelEncoder \n",
        "le = LabelEncoder()\n",
        "dataset['Spam'] = le.fit_transform(dataset['Spam'])\n",
        "dataset['Spam'].unique()"
      ],
      "execution_count": 0,
      "outputs": []
    },
    {
      "cell_type": "code",
      "metadata": {
        "id": "oWedEuNEI7Oe",
        "colab_type": "code",
        "colab": {}
      },
      "source": [
        "print(dataset)"
      ],
      "execution_count": 0,
      "outputs": []
    },
    {
      "cell_type": "code",
      "metadata": {
        "id": "DgulYj5cMBDi",
        "colab_type": "code",
        "colab": {}
      },
      "source": [
        "#Removing Unnamed Columns\n",
        "dataset.drop(['Unnamed: 2','Unnamed: 3','Unnamed: 4'],axis=1)\n",
        "#Interchange The Columns \n",
        "dataset.reindex(['Messages','Spam'],axis=1)"
      ],
      "execution_count": 0,
      "outputs": []
    },
    {
      "cell_type": "code",
      "metadata": {
        "id": "5TP1NjpDOHsZ",
        "colab_type": "code",
        "colab": {}
      },
      "source": [
        "#Cleaning the Messages\n",
        "import re\n",
        "corpus = []\n",
        "for i in range(0,5572):\n",
        "  text = re.sub('[^a-zA-Z]',' ',dataset['Messages'][i])\n",
        "  text = text.lower()\n",
        "  text = text.split()\n",
        "  ps = PorterStemmer()\n",
        "  text = [ps.stem(word) for word in text if not word in set(stopwords.words('english'))]\n",
        "  text = ' '.join(text)\n",
        "  corpus.append(text)\n",
        "print(corpus)"
      ],
      "execution_count": 0,
      "outputs": []
    },
    {
      "cell_type": "code",
      "metadata": {
        "id": "G587Iq2qSnMK",
        "colab_type": "code",
        "colab": {}
      },
      "source": [
        "#Creating the Bag of Words\n",
        "from sklearn.feature_extraction.text import CountVectorizer\n",
        "cv = CountVectorizer()\n",
        "X = cv.fit_transform(corpus).toarray()\n",
        "y = dataset.iloc[:,0].values\n",
        "print(X)\n",
        "print(y)"
      ],
      "execution_count": 0,
      "outputs": []
    },
    {
      "cell_type": "code",
      "metadata": {
        "id": "g4Vgl-P1djlY",
        "colab_type": "code",
        "colab": {}
      },
      "source": [
        "#Splitting the Train and Test Cases\n",
        "from sklearn.model_selection import train_test_split\n",
        "X_train, X_test, y_train, y_test = train_test_split(X, y, test_size = 0.40, random_state = 0) "
      ],
      "execution_count": 0,
      "outputs": []
    },
    {
      "cell_type": "code",
      "metadata": {
        "id": "eIenj3kJduO5",
        "colab_type": "code",
        "colab": {}
      },
      "source": [
        "#Training with Naive Bayes\n",
        "from sklearn.naive_bayes import GaussianNB\n",
        "classifier = GaussianNB()\n",
        "classifier.fit(X_train, y_train)"
      ],
      "execution_count": 0,
      "outputs": []
    },
    {
      "cell_type": "code",
      "metadata": {
        "id": "zIzEmvBeeIap",
        "colab_type": "code",
        "colab": {}
      },
      "source": [
        "#Predicting Test Cases\n",
        "y_pred = classifier.predict(X_test)\n",
        "print(\"Predicted Texts:\")\n",
        "for count in range(len(y_pred)):\n",
        "  if(y_pred[count] == y_test[count]):\n",
        "    print(dataset['Messages'][count])\n",
        "\n",
        "print(\"Non-Predicted Texts:\")\n",
        "for count in range(len(y_pred)):\n",
        "  if(y_pred[count] != y_test[count]):\n",
        "    print(dataset['Messages'][count])"
      ],
      "execution_count": 0,
      "outputs": []
    },
    {
      "cell_type": "code",
      "metadata": {
        "id": "MXtHIJoveWDo",
        "colab_type": "code",
        "colab": {
          "base_uri": "https://localhost:8080/",
          "height": 68
        },
        "outputId": "a228088e-54a1-4d2c-ce56-5ed9bc541d0c"
      },
      "source": [
        "#Making the Confusion Matrix\n",
        "from sklearn.metrics import confusion_matrix, accuracy_score\n",
        "cm = confusion_matrix(y_test, y_pred)\n",
        "print(cm)\n",
        "accuracy_score(y_test, y_pred)"
      ],
      "execution_count": 27,
      "outputs": [
        {
          "output_type": "stream",
          "text": [
            "[[1695  214]\n",
            " [  45  275]]\n"
          ],
          "name": "stdout"
        },
        {
          "output_type": "execute_result",
          "data": {
            "text/plain": [
              "0.8838043965903993"
            ]
          },
          "metadata": {
            "tags": []
          },
          "execution_count": 27
        }
      ]
    }
  ]
}